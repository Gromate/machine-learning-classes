{
 "cells": [
  {
   "cell_type": "code",
   "execution_count": 128,
   "metadata": {},
   "outputs": [],
   "source": [
    "from sklearn.ensemble import RandomForestClassifier\n",
    "from sklearn.tree import DecisionTreeClassifier\n",
    "from sklearn.linear_model import LogisticRegression\n",
    "from sklearn.datasets import load_wine\n",
    "from sklearn.model_selection import train_test_split\n",
    "from random import randint\n",
    "import numpy as np \n",
    "import matplotlib.pyplot as plt"
   ]
  },
  {
   "cell_type": "code",
   "execution_count": 129,
   "metadata": {},
   "outputs": [],
   "source": [
    "X, y = load_wine(return_X_y = True, as_frame = True)\n",
    "X_train, X_test, y_train, y_test = train_test_split(X, y, test_size = 0.2)\n",
    "\n",
    "models = [\n",
    "    RandomForestClassifier(max_depth = 2),\n",
    "    DecisionTreeClassifier(max_depth = 2),\n",
    "    LogisticRegression(max_iter=10, multi_class='multinomial'),\n",
    "]"
   ]
  },
  {
   "cell_type": "code",
   "execution_count": 132,
   "metadata": {},
   "outputs": [],
   "source": [
    "def bag_data(X_train, y_train):\n",
    "    seed = randint(0,100)\n",
    "    bagged_train_x = X_train.sample(n=len(X_train), replace=True, random_state=seed)\n",
    "    bagged_train_y = y_train.sample(n=len(X_train), replace=True, random_state=seed)\n",
    "\n",
    "\n",
    "    return bagged_train_x, bagged_train_y"
   ]
  },
  {
   "cell_type": "code",
   "execution_count": 135,
   "metadata": {},
   "outputs": [],
   "source": [
    "def train_models(models, X_train, y_train):\n",
    "  for model in models:\n",
    "        x_train_bag, y_train_bag = bag_data(X_train, y_train)\n",
    "        model.fit(x_train_bag, y_train_bag)"
   ]
  },
  {
   "cell_type": "code",
   "execution_count": 136,
   "metadata": {},
   "outputs": [
    {
     "name": "stderr",
     "output_type": "stream",
     "text": [
      "/usr/lib/python3/dist-packages/sklearn/linear_model/_logistic.py:469: ConvergenceWarning: lbfgs failed to converge (status=1):\n",
      "STOP: TOTAL NO. of ITERATIONS REACHED LIMIT.\n",
      "\n",
      "Increase the number of iterations (max_iter) or scale the data as shown in:\n",
      "    https://scikit-learn.org/stable/modules/preprocessing.html\n",
      "Please also refer to the documentation for alternative solver options:\n",
      "    https://scikit-learn.org/stable/modules/linear_model.html#logistic-regression\n",
      "  n_iter_i = _check_optimize_result(\n"
     ]
    }
   ],
   "source": [
    "train_models(models, X_train, y_train)"
   ]
  },
  {
   "cell_type": "code",
   "execution_count": 137,
   "metadata": {},
   "outputs": [
    {
     "name": "stdout",
     "output_type": "stream",
     "text": [
      "0.9859154929577465\n",
      "0.9436619718309859\n",
      "0.7112676056338029\n"
     ]
    }
   ],
   "source": [
    "for model in models:\n",
    "    print(model.score(X_train, y_train))"
   ]
  },
  {
   "cell_type": "code",
   "execution_count": 195,
   "metadata": {},
   "outputs": [],
   "source": [
    "def soft_voting(models):\n",
    "    model_prediction_arrays = []\n",
    "    for model in models:\n",
    "        model_prediction_arrays.append(np.array(model.predict_proba(X_test)))\n",
    "\n",
    "    ensamble_array = np.zeros(shape=(36,3))\n",
    "    for array in model_prediction_arrays:\n",
    "        ensamble_array = np.add(ensamble_array, array)\n",
    "\n",
    "    ensamble_array = np.divide(ensamble_array, len(model_prediction_arrays))\n",
    "    \n",
    "\n",
    "    return ensamble_array"
   ]
  },
  {
   "cell_type": "code",
   "execution_count": 196,
   "metadata": {},
   "outputs": [
    {
     "data": {
      "text/plain": [
       "array([[0.03128641, 0.78024224, 0.18847135],\n",
       "       [0.00945509, 0.84395913, 0.14658578],\n",
       "       [0.10208202, 0.20949727, 0.68842071],\n",
       "       [0.03630758, 0.25138335, 0.71230907],\n",
       "       [0.05889801, 0.13132002, 0.80978197],\n",
       "       [0.02740964, 0.76412211, 0.20846825],\n",
       "       [0.86649485, 0.07970563, 0.05379952],\n",
       "       [0.09901044, 0.72683893, 0.17415063],\n",
       "       [0.84057583, 0.06535109, 0.09407308],\n",
       "       [0.79465788, 0.16956954, 0.03577258],\n",
       "       [0.76885367, 0.08877898, 0.14236735],\n",
       "       [0.02485814, 0.85343004, 0.12171182],\n",
       "       [0.04331521, 0.12684639, 0.8298384 ],\n",
       "       [0.87385008, 0.06873761, 0.05741231],\n",
       "       [0.09874649, 0.7300642 , 0.17118931],\n",
       "       [0.05913958, 0.57025792, 0.3706025 ],\n",
       "       [0.18343509, 0.60648457, 0.21008034],\n",
       "       [0.16011475, 0.60049045, 0.2393948 ],\n",
       "       [0.06383403, 0.75605165, 0.18011432],\n",
       "       [0.06631086, 0.71508834, 0.2186008 ],\n",
       "       [0.03135757, 0.77073504, 0.19790739],\n",
       "       [0.66116641, 0.21279024, 0.12604336],\n",
       "       [0.04315972, 0.80602776, 0.15081251],\n",
       "       [0.0113447 , 0.45064149, 0.53801381],\n",
       "       [0.21686716, 0.06742486, 0.71570798],\n",
       "       [0.02526272, 0.822113  , 0.15262428],\n",
       "       [0.60647112, 0.17764432, 0.21588456],\n",
       "       [0.03714453, 0.26086401, 0.70199146],\n",
       "       [0.02425422, 0.79731866, 0.17842712],\n",
       "       [0.1568414 , 0.70341084, 0.13974776],\n",
       "       [0.01818259, 0.81002945, 0.17178797],\n",
       "       [0.92350619, 0.06213579, 0.01435801],\n",
       "       [0.03513353, 0.62213359, 0.34273288],\n",
       "       [0.01679176, 0.71672143, 0.26648682],\n",
       "       [0.04016695, 0.12645769, 0.83337536],\n",
       "       [0.89205974, 0.07303106, 0.0349092 ]])"
      ]
     },
     "execution_count": 196,
     "metadata": {},
     "output_type": "execute_result"
    }
   ],
   "source": [
    "soft_voting(models)"
   ]
  },
  {
   "cell_type": "code",
   "execution_count": null,
   "metadata": {},
   "outputs": [],
   "source": []
  },
  {
   "cell_type": "code",
   "execution_count": null,
   "metadata": {},
   "outputs": [],
   "source": []
  }
 ],
 "metadata": {
  "kernelspec": {
   "display_name": "Python 3",
   "language": "python",
   "name": "python3"
  },
  "language_info": {
   "codemirror_mode": {
    "name": "ipython",
    "version": 3
   },
   "file_extension": ".py",
   "mimetype": "text/x-python",
   "name": "python",
   "nbconvert_exporter": "python",
   "pygments_lexer": "ipython3",
   "version": "3.12.3"
  }
 },
 "nbformat": 4,
 "nbformat_minor": 2
}
